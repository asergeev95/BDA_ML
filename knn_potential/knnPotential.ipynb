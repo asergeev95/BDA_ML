{
 "cells": [
  {
   "cell_type": "code",
   "execution_count": 1,
   "metadata": {},
   "outputs": [],
   "source": [
    "import numpy as np\n",
    "from sklearn.datasets import load_digits\n",
    "from sklearn.neighbors import KNeighborsClassifier\n",
    "from sklearn.model_selection import train_test_split\n",
    "from sklearn.metrics import confusion_matrix, accuracy_score\n",
    "from sklearn.base import BaseEstimator\n",
    "from sklearn.base import ClassifierMixin\n",
    "\n",
    "def dist(a, b):\n",
    "    d = 0.0\n",
    "    for i in range(len(a)):\n",
    "        d += (a[i] - b[i])**2\n",
    "    return d**0.5\n",
    "\n",
    "class PotentialKnn(BaseEstimator, ClassifierMixin):\n",
    "    def __init__(self, k, N):\n",
    "        print(k, N)\n",
    "        self.weights = np.zeros((N))\n",
    "        self.k = k\n",
    "        self.N = N\n",
    "\n",
    "    def fit(self, X_train, y_train):\n",
    "        print('fit')\n",
    "        iter = 0\n",
    "        self.x = X_train\n",
    "        self.y = y_train\n",
    "        predictions = self.predict(X_train)\n",
    "        while self.score(X_train, y_train) < 0.9:\n",
    "            iter += 1\n",
    "            print('iteration= {0}'.format(iter))\n",
    "            for _ in range(100):\n",
    "                i = np.random.randint(self.N)\n",
    "                if predictions[i] != y_train[i]:\n",
    "                    self.weights[i] += 1\n",
    "            predictions = self.predict(X_train)\n",
    "        return self.weights\n",
    "\n",
    "    def predict(self, test_data):\n",
    "        print('predict')\n",
    "        listofpred = []\n",
    "        k = self.k\n",
    "        for test_point in (test_data):\n",
    "            j = 0\n",
    "            d = [[dist(test_point, point), self.y[ind]]\n",
    "                 for ind, point in enumerate(self.x)]\n",
    "            stat = [0 for _ in range(10)]\n",
    "            for z in sorted(d)[0:k]:\n",
    "                j += 1\n",
    "                stat[z[1]] += self.weights[j] * 1 / (z[0] + 1)\n",
    "            listofpred.append(sorted(zip(stat, range(10)), reverse=True)[0][1])\n",
    "        return listofpred\n",
    "\n"
   ]
  },
  {
   "cell_type": "code",
   "execution_count": 2,
   "metadata": {},
   "outputs": [],
   "source": [
    "digits = load_digits()\n",
    "(X_train, X_test, y_train, y_test) = train_test_split(digits.data, digits.target, test_size=0.25)"
   ]
  },
  {
   "cell_type": "code",
   "execution_count": 3,
   "metadata": {},
   "outputs": [
    {
     "name": "stdout",
     "output_type": "stream",
     "text": [
      "3 1347\n"
     ]
    }
   ],
   "source": [
    "N = X_train.shape[0]\n",
    "model = PotentialKnn(3, N)"
   ]
  },
  {
   "cell_type": "code",
   "execution_count": null,
   "metadata": {},
   "outputs": [
    {
     "name": "stdout",
     "output_type": "stream",
     "text": [
      "====FIT====\n",
      "fit\n",
      "predict\n"
     ]
    }
   ],
   "source": [
    "print(\"====FIT====\")\n",
    "model.fit(X_train, y_train)"
   ]
  },
  {
   "cell_type": "code",
   "execution_count": null,
   "metadata": {},
   "outputs": [],
   "source": [
    "print(\"===SCORE===\")\n",
    "model.score(X_test, y_test) \n",
    "print(\"===PREDICT===\")\n",
    "confusion_matrix(model.predict(X_test), y_test)"
   ]
  }
 ],
 "metadata": {
  "kernelspec": {
   "display_name": "Python 3",
   "language": "python",
   "name": "python3"
  },
  "language_info": {
   "codemirror_mode": {
    "name": "ipython",
    "version": 3
   },
   "file_extension": ".py",
   "mimetype": "text/x-python",
   "name": "python",
   "nbconvert_exporter": "python",
   "pygments_lexer": "ipython3",
   "version": "3.6.4"
  }
 },
 "nbformat": 4,
 "nbformat_minor": 2
}
