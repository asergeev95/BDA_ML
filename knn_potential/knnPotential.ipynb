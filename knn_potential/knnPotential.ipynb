{
 "cells": [
  {
   "cell_type": "markdown",
   "metadata": {},
   "source": [
    "Import required libraries"
   ]
  },
  {
   "cell_type": "code",
   "execution_count": 1,
   "metadata": {},
   "outputs": [],
   "source": [
    "import numpy as np\n",
    "from sklearn.datasets import load_digits\n",
    "from sklearn.neighbors import KNeighborsClassifier\n",
    "from sklearn.model_selection import train_test_split\n",
    "from sklearn.metrics import confusion_matrix, accuracy_score\n",
    "from sklearn.base import BaseEstimator\n",
    "from sklearn.base import ClassifierMixin"
   ]
  },
  {
   "cell_type": "markdown",
   "metadata": {},
   "source": [
    "Weighted KNN implementation"
   ]
  },
  {
   "cell_type": "code",
   "execution_count": 2,
   "metadata": {},
   "outputs": [],
   "source": [
    "def dist(a, b):\n",
    "    d = 0.0\n",
    "    for i in range(len(a)):\n",
    "        d += (a[i] - b[i])**2\n",
    "    return d**0.5\n",
    "\n",
    "class PotentialKnn(BaseEstimator, ClassifierMixin):\n",
    "    def __init__(self, k, N):\n",
    "        print(k, N)\n",
    "        self.weights = np.zeros((N))\n",
    "        self.k = k\n",
    "        self.N = N\n",
    "\n",
    "    def fit(self, X_train, y_train):\n",
    "        iter = 0\n",
    "        self.x = X_train\n",
    "        self.y = y_train\n",
    "        #initialize predictions; after it we will make a prediction for every point while it is the real one\n",
    "        predictions = self.predict(X_train) \n",
    "        while self.score(X_train, y_train) < 0.9:\n",
    "            iter += 1\n",
    "            for _ in range(100): #process 100 points in one time; it is too long to do it one by one\n",
    "                i = np.random.randint(self.N) #choose random point from dataset \n",
    "                if predictions[i] != y_train[i]: #and check if its class coinside with real one\n",
    "                    self.weights[i] += 1 #if itsn't recalculate weights\n",
    "            predictions = self.predict(X_train)\n",
    "        return self.weights\n",
    "\n",
    "    def predict(self, test_data):\n",
    "        listofpred = []\n",
    "        k = self.k\n",
    "        for test_point in (test_data):\n",
    "            j = 0\n",
    "            d = [[dist(test_point, point), self.y[ind]]\n",
    "                 for ind, point in enumerate(self.x)]\n",
    "            stat = [0 for _ in range(10)]\n",
    "            for z in sorted(d)[0:k]:\n",
    "                j += 1\n",
    "                stat[z[1]] += self.weights[j] * 1 / (z[0] + 1) #weighted KNN kernel\n",
    "                #choose 10 classes sort values of weighted KNN function and get a class - number from 0 to 9\n",
    "            listofpred.append(sorted(zip(stat, range(10)), reverse=True)[0][1]) \n",
    "        return listofpred"
   ]
  },
  {
   "cell_type": "markdown",
   "metadata": {},
   "source": [
    "Read initial data and split into train and test"
   ]
  },
  {
   "cell_type": "code",
   "execution_count": 3,
   "metadata": {},
   "outputs": [],
   "source": [
    "digits = load_digits()\n",
    "(X_train, X_test, y_train, y_test) = train_test_split(digits.data, digits.target, test_size=0.25)"
   ]
  },
  {
   "cell_type": "markdown",
   "metadata": {},
   "source": [
    "Sklearn KNN "
   ]
  },
  {
   "cell_type": "code",
   "execution_count": 8,
   "metadata": {},
   "outputs": [
    {
     "name": "stdout",
     "output_type": "stream",
     "text": [
      "0.9888888888888889\n",
      "[[41  0  0  0  0  0  0  0  0  0]\n",
      " [ 0 47  0  0  0  0  0  0  0  1]\n",
      " [ 0  0 42  0  0  0  0  0  0  0]\n",
      " [ 0  0  0 43  0  0  0  0  0  1]\n",
      " [ 0  0  0  0 48  0  0  0  0  0]\n",
      " [ 0  0  0  0  0 51  0  0  0  0]\n",
      " [ 0  0  0  0  0  1 49  0  0  0]\n",
      " [ 0  0  0  1  0  0  0 46  0  0]\n",
      " [ 0  0  0  0  0  0  0  0 45  1]\n",
      " [ 0  0  0  0  0  0  0  0  0 33]]\n",
      "Wall time: 146 ms\n"
     ]
    }
   ],
   "source": [
    "%%time\n",
    "knn = KNeighborsClassifier()\n",
    "knn.fit(X_train, y_train) \n",
    "y_predicted = knn.predict(X_test)\n",
    "print(accuracy_score(y_predicted, y_test))\n",
    "print(confusion_matrix(y_predicted, y_test))"
   ]
  },
  {
   "cell_type": "markdown",
   "metadata": {},
   "source": [
    "Check the solution"
   ]
  },
  {
   "cell_type": "code",
   "execution_count": 10,
   "metadata": {},
   "outputs": [
    {
     "name": "stdout",
     "output_type": "stream",
     "text": [
      "3 1347\n",
      "0.9888888888888889\n",
      "[[41  0  0  0  0  0  0  0  0  0]\n",
      " [ 0 47  0  0  0  0  0  0  0  0]\n",
      " [ 0  0 42  0  0  0  0  0  0  0]\n",
      " [ 0  0  0 42  0  0  0  0  0  1]\n",
      " [ 0  0  0  0 48  0  0  0  0  0]\n",
      " [ 0  0  0  0  0 51  0  0  0  0]\n",
      " [ 0  0  0  0  0  1 49  0  0  0]\n",
      " [ 0  0  0  1  0  0  0 46  0  0]\n",
      " [ 0  0  0  0  0  0  0  0 45  1]\n",
      " [ 0  0  0  1  0  0  0  0  0 34]]\n",
      "Wall time: 20min 3s\n"
     ]
    }
   ],
   "source": [
    "%%time\n",
    "model = PotentialKnn(3, X_train.shape[0])\n",
    "model.fit(X_train, y_train)\n",
    "y_predicted = model.predict(X_test)\n",
    "print(accuracy_score(y_predicted, y_test))\n",
    "print(confusion_matrix(y_predicted, y_test))"
   ]
  },
  {
   "cell_type": "code",
   "execution_count": null,
   "metadata": {},
   "outputs": [],
   "source": []
  }
 ],
 "metadata": {
  "kernelspec": {
   "display_name": "Python 3",
   "language": "python",
   "name": "python3"
  },
  "language_info": {
   "codemirror_mode": {
    "name": "ipython",
    "version": 3
   },
   "file_extension": ".py",
   "mimetype": "text/x-python",
   "name": "python",
   "nbconvert_exporter": "python",
   "pygments_lexer": "ipython3",
   "version": "3.6.4"
  }
 },
 "nbformat": 4,
 "nbformat_minor": 2
}
