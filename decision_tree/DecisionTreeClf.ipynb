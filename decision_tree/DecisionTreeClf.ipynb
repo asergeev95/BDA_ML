{
 "cells": [
  {
   "cell_type": "code",
   "execution_count": 11,
   "metadata": {},
   "outputs": [
    {
     "name": "stderr",
     "output_type": "stream",
     "text": [
      "C:\\ProgramData\\Anaconda3\\lib\\site-packages\\ipykernel_launcher.py:23: SettingWithCopyWarning: \n",
      "A value is trying to be set on a copy of a slice from a DataFrame.\n",
      "Try using .loc[row_indexer,col_indexer] = value instead\n",
      "\n",
      "See the caveats in the documentation: http://pandas.pydata.org/pandas-docs/stable/indexing.html#indexing-view-versus-copy\n"
     ]
    },
    {
     "data": {
      "text/plain": [
       "0.7796767355590885"
      ]
     },
     "execution_count": 11,
     "metadata": {},
     "output_type": "execute_result"
    }
   ],
   "source": [
    "import math\n",
    "import numpy as np\n",
    "import pandas as pd\n",
    "from sklearn.base import BaseEstimator, ClassifierMixin\n",
    "from sklearn.model_selection import train_test_split\n",
    "from sklearn.metrics import roc_auc_score\n",
    "from sklearn.tree import DecisionTreeClassifier, export_graphviz\n",
    "from sklearn.ensemble import GradientBoostingRegressor\n",
    "import matplotlib.pyplot as plt\n",
    "\n",
    "train = pd.read_csv('train.csv')\n",
    "# I think we can skip those\n",
    "train = train.drop([\"PassengerId\", \"Ticket\",\"Cabin\",\"Name\"],axis=1)\n",
    "\n",
    "# one-hot encoding non numeric columns\n",
    "train = pd.get_dummies(train)\n",
    "\n",
    "# fill nans\n",
    "nan_age = train[train.Age.apply(np.isnan)]\n",
    "age = train[~train.Age.apply(np.isnan)]\n",
    "est = GradientBoostingRegressor(n_estimators=400, learning_rate=0.1, max_depth=1, loss='huber')\n",
    "est = est.fit(age.drop(\"Age\",axis=1), age[\"Age\"])\n",
    "nan_age[\"Age\"] = est.predict(nan_age.drop(\"Age\",axis=1))\n",
    "train = age.append(nan_age)\n",
    "\n",
    "data, target = train.drop(\"Survived\",axis=1), train['Survived']\n",
    "(X_train, X_test, y_train, y_test) = train_test_split(data, target, test_size=0.2)\n",
    "\n",
    "\n",
    "tree_clf  = DecisionTreeClassifier()\n",
    "tree_clf.fit(X_train, y_train)\n",
    "y_score = tree_clf.predict(X_test)\n",
    "roc_auc_score(y_test, y_score)"
   ]
  },
  {
   "cell_type": "code",
   "execution_count": null,
   "metadata": {},
   "outputs": [],
   "source": []
  }
 ],
 "metadata": {
  "kernelspec": {
   "display_name": "Python 3",
   "language": "python",
   "name": "python3"
  },
  "language_info": {
   "codemirror_mode": {
    "name": "ipython",
    "version": 3
   },
   "file_extension": ".py",
   "mimetype": "text/x-python",
   "name": "python",
   "nbconvert_exporter": "python",
   "pygments_lexer": "ipython3",
   "version": "3.6.4"
  }
 },
 "nbformat": 4,
 "nbformat_minor": 2
}
