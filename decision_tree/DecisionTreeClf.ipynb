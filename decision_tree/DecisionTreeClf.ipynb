{
 "cells": [
  {
   "cell_type": "markdown",
   "metadata": {},
   "source": [
    "Import required libraries"
   ]
  },
  {
   "cell_type": "code",
   "execution_count": 1,
   "metadata": {},
   "outputs": [],
   "source": [
    "import math\n",
    "import numpy as np\n",
    "import pandas as pd\n",
    "from sklearn.base import BaseEstimator, ClassifierMixin\n",
    "from sklearn.model_selection import train_test_split\n",
    "from sklearn.metrics import roc_auc_score\n",
    "from sklearn.tree import DecisionTreeClassifier\n",
    "from sklearn.ensemble import GradientBoostingRegressor\n",
    "import matplotlib.pyplot as plt"
   ]
  },
  {
   "cell_type": "markdown",
   "metadata": {},
   "source": [
    "Read initial data"
   ]
  },
  {
   "cell_type": "code",
   "execution_count": 2,
   "metadata": {},
   "outputs": [],
   "source": [
    "train = pd.read_csv('train.csv')\n",
    "train = train.drop([\"PassengerId\", \"Ticket\",\"Cabin\",\"Name\"],axis=1)\n",
    "train = pd.get_dummies(train) #Convert categorical variable into dummy/indicator variables"
   ]
  },
  {
   "cell_type": "markdown",
   "metadata": {},
   "source": [
    "Values in age contains quite a lot nans.\n",
    "Using GradientBoostingClassifier we will predict empty values. "
   ]
  },
  {
   "cell_type": "code",
   "execution_count": 3,
   "metadata": {},
   "outputs": [
   ],
   "source": [
    "nan_age = train[train.Age.apply(np.isnan)]\n",
    "age = train[~train.Age.apply(np.isnan)]\n",
    "est = GradientBoostingRegressor(n_estimators=400, learning_rate=0.1, max_depth=1, loss='huber')\n",
    "est = est.fit(age.drop(\"Age\",axis=1), age[\"Age\"])\n",
    "nan_age[\"Age\"] = est.predict(nan_age.drop(\"Age\",axis=1))\n",
    "train = age.append(nan_age)"
   ]
  },
  {
   "cell_type": "markdown",
   "metadata": {},
   "source": [
    "Split dataset into train and test"
   ]
  },
  {
   "cell_type": "code",
   "execution_count": 4,
   "metadata": {},
   "outputs": [],
   "source": [
    "data, target = train.drop(\"Survived\",axis=1), train['Survived']\n",
    "(X_train, X_test, y_train, y_test) = train_test_split(data, target, test_size=0.25)"
   ]
  },
  {
   "cell_type": "markdown",
   "metadata": {},
   "source": [
    "Decision tree implementation"
   ]
  },
  {
   "cell_type": "code",
   "execution_count": 5,
   "metadata": {},
   "outputs": [],
   "source": [
    "class MyDecisionTree(BaseEstimator, ClassifierMixin):\n",
    "    class Node:\n",
    "        def __init__(self, column_name, column_value, result, left=None, right=None):\n",
    "            self.column_name = column_name\n",
    "            self.column_value = column_value\n",
    "            self.result = result\n",
    "            self.left = left\n",
    "            self.right = right\n",
    "\n",
    "    def fit(self, X, y):\n",
    "        self.tree = self.__split(X, y)\n",
    "        return self\n",
    "\n",
    "    def predict(self, X):\n",
    "        result = []\n",
    "        for row in range(0, len(X)):\n",
    "            result.append(self.__predict(X, row, self.tree))\n",
    "        return result\n",
    "\n",
    "    def visualize(self):\n",
    "        self.__visualize(0, 'root', '', '', self.tree)\n",
    "\n",
    "    def __split(self, X, y):\n",
    "        best_val, best_column, best_cost = None, None, 1000\n",
    "        for col in X.columns:\n",
    "            val, cost = self.__split_column(X, y, col)\n",
    "            if best_cost > cost:\n",
    "                best_cost = cost\n",
    "                best_column = col\n",
    "                best_val = val\n",
    "\n",
    "        left_node, right_node = self.__split_by_value(X, best_column, best_val)\n",
    "        leftX = X[left_node].drop(best_column, axis=1)\n",
    "        leftY = y[left_node]\n",
    "        rightX = X[right_node].drop(best_column, axis=1)\n",
    "        rightY = y[right_node]\n",
    "\n",
    "        if len(leftX) > 0 and len(rightX) > 0:\n",
    "            l = self.__split(leftX, leftY)\n",
    "            r = self.__split(rightX, rightY)\n",
    "            return MyDecisionTree.Node(best_column, best_val, None, l, r)\n",
    "        elif len(leftX) > 0:\n",
    "            return MyDecisionTree.Node(best_column, best_val, leftY.ravel()[0])\n",
    "        else:\n",
    "            return MyDecisionTree.Node(best_column, best_val, rightY.ravel()[0])\n",
    "\n",
    "    def __split_column(self, X, y, column_name):\n",
    "        best_value, best_cost = None, 1000\n",
    "        for val in self.__enumerate_split_points(X[column_name]):\n",
    "            cost = self.__calc_cost_for_value(X, y, column_name, val)\n",
    "\n",
    "            if cost == 0:\n",
    "                return (val, cost)\n",
    "            elif cost < best_cost:\n",
    "                best_cost = cost\n",
    "                best_value = val\n",
    "        return (best_value, best_cost)\n",
    "\n",
    "    def __enumerate_split_points(self, col):\n",
    "        unique = col.unique().ravel()\n",
    "        unique = np.sort(unique)\n",
    "        if len(unique) == 1:\n",
    "            yield unique[0]\n",
    "        else:\n",
    "            for index in range(1, len(unique)):\n",
    "                prev = unique[index - 1]\n",
    "                current = unique[index]\n",
    "                yield (prev + current) / 2\n",
    "\n",
    "    def __calc_cost_for_value(self, X, y, column_name, value):\n",
    "        left_node, right_node = self.__split_by_value(X, column_name, value)\n",
    "        left = X[left_node]\n",
    "        right = X[right_node]\n",
    "\n",
    "        ll = y[left_node][y == 1]\n",
    "        lr = y[left_node][y == 0]\n",
    "\n",
    "        rl = y[right_node][y == 1]\n",
    "        rr = y[right_node][y == 0]\n",
    "\n",
    "        lgini = self.__gini_index(np.array([len(ll), len(lr)]))\n",
    "        rgini = self.__gini_index(np.array([len(rl), len(rr)]))\n",
    "\n",
    "        total = len(left) + len(right)\n",
    "        return lgini * len(left) / total + rgini * len(right) / total\n",
    "\n",
    "    def __split_by_value(self, X, column, value):\n",
    "        return (X[column] <= value, X[column] > value)\n",
    "\n",
    "    def __gini_index(self, splits):\n",
    "        total = sum(splits)\n",
    "        if total == 0:\n",
    "            return 0\n",
    "        return 1 - sum((splits / total)**2)\n",
    "\n",
    "    def __visualize(self, depth, text, sign, value, node):\n",
    "        if node is None:\n",
    "            return\n",
    "\n",
    "        res = '' if node.result is None else '(' + str(node.result) + ')'\n",
    "        print('--' * depth, str(depth) + ')', text, sign, value, res)\n",
    "        self.__visualize(depth + 1, node.column_name, '<=',\n",
    "                         node.column_value, node.left)\n",
    "        self.__visualize(depth + 1, node.column_name, '>',\n",
    "                         node.column_value, node.right)\n",
    "\n",
    "    def __predict(self, X, row, node):\n",
    "        if node.result is not None:\n",
    "            return node.result\n",
    "\n",
    "        if X.iloc[row][node.column_name] <= node.column_value:\n",
    "            return self.__predict(X, row, node.left)\n",
    "\n",
    "        return self.__predict(X, row, node.right)\n"
   ]
  },
  {
   "cell_type": "markdown",
   "metadata": {},
   "source": [
    "Check my solution "
   ]
  },
  {
   "cell_type": "code",
   "execution_count": 6,
   "metadata": {},
   "outputs": [
    {
     "data": {
      "text/plain": [
       "0.7191891891891892"
      ]
     },
     "execution_count": 6,
     "metadata": {},
     "output_type": "execute_result"
    }
   ],
   "source": [
    "tree_clf = MyDecisionTree()\n",
    "tree_clf.fit(X_train, y_train)\n",
    "y_score = tree_clf.predict(X_test)\n",
    "roc_auc_score(y_test, y_score)"
   ]
  },
  {
   "cell_type": "markdown",
   "metadata": {},
   "source": [
    "Compare with sklearn Decision tree"
   ]
  },
  {
   "cell_type": "code",
   "execution_count": 7,
   "metadata": {},
   "outputs": [
    {
     "data": {
      "text/plain": [
       "0.7889639639639641"
      ]
     },
     "execution_count": 7,
     "metadata": {},
     "output_type": "execute_result"
    }
   ],
   "source": [
    "sk_tree_clf  = DecisionTreeClassifier()\n",
    "sk_tree_clf.fit(X_train, y_train)\n",
    "y_score = sk_tree_clf.predict(X_test)\n",
    "roc_auc_score(y_test, y_score)"
   ]
  },
  {
   "cell_type": "code",
   "execution_count": null,
   "metadata": {},
   "outputs": [],
   "source": []
  }
 ],
 "metadata": {
  "kernelspec": {
   "display_name": "Python 3",
   "language": "python",
   "name": "python3"
  },
  "language_info": {
   "codemirror_mode": {
    "name": "ipython",
    "version": 3
   },
   "file_extension": ".py",
   "mimetype": "text/x-python",
   "name": "python",
   "nbconvert_exporter": "python",
   "pygments_lexer": "ipython3",
   "version": "3.6.4"
  }
 },
 "nbformat": 4,
 "nbformat_minor": 2
}
