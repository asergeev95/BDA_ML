{
 "cells": [
  {
   "cell_type": "code",
   "execution_count": 1,
   "metadata": {},
   "outputs": [],
   "source": [
    "import pandas as pd\n",
    "import sklearn as sk\n",
    "import numpy as np\n",
    "from sklearn.linear_model import LinearRegression\n",
    "from sklearn import model_selection"
   ]
  },
  {
   "cell_type": "code",
   "execution_count": 2,
   "metadata": {},
   "outputs": [],
   "source": [
    "#read initial data\n",
    "dataset = pd.read_csv('house_price_predict.csv')"
   ]
  },
  {
   "cell_type": "code",
   "execution_count": 3,
   "metadata": {},
   "outputs": [],
   "source": [
    "#divide initial dataset into training and test sets\n",
    "X_train_initial, X_test_initial, Y_train, Y_test = sk.model_selection.train_test_split(\n",
    "    dataset, dataset[\"Price\"].values, test_size=0.33, random_state=5)\n",
    "\n",
    "#as a first case we fill empty fields with zeros\n",
    "X_train = X_train_initial.drop(\"Price\", axis=1).fillna(0)\n",
    "X_test = X_test_initial.drop(\"Price\", axis=1).fillna(0)"
   ]
  },
  {
   "cell_type": "code",
   "execution_count": 4,
   "metadata": {},
   "outputs": [],
   "source": [
    "lm = LinearRegression() #create linear regression model \n",
    "lm.fit(X_train, Y_train) #and train it \n",
    "\n",
    "Y_predicted = lm.predict(X_test) #get first predicted values"
   ]
  },
  {
   "cell_type": "code",
   "execution_count": 5,
   "metadata": {},
   "outputs": [],
   "source": [
    "#as a second case we fill empty fields with mean values\n",
    "X_train = X_train_initial.drop(\"Price\", axis=1).fillna(X_train_initial.mean())\n",
    "X_test = X_test_initial.drop(\"Price\", axis=1).fillna(X_test_initial.mean())\n",
    "\n",
    "lm.fit(X_train, Y_train) #and train our model again\n",
    "\n",
    "Y_predicted_new = lm.predict(X_test) #and get another predicted values"
   ]
  },
  {
   "cell_type": "code",
   "execution_count": 6,
   "metadata": {},
   "outputs": [],
   "source": [
    "mseFull = np.mean((Y_test - Y_predicted)**2) #error if empty fields are filled with zeros\n",
    "mseFull_new = np.mean((Y_test - Y_predicted_new)**2) #error if empty fields are filled with mean values"
   ]
  },
  {
   "cell_type": "code",
   "execution_count": 7,
   "metadata": {},
   "outputs": [
    {
     "data": {
      "text/plain": [
       "35.58842926105392"
      ]
     },
     "execution_count": 12,
     "metadata": {},
     "output_type": "execute_result"
    }
   ],
   "source": [
    "mseFull"
   ]
  },
  {
   "cell_type": "code",
   "execution_count": 8,
   "metadata": {},
   "outputs": [
    {
     "data": {
      "text/plain": [
       "30.755513791156893"
      ]
     },
     "execution_count": 13,
     "metadata": {},
     "output_type": "execute_result"
    }
   ],
   "source": [
    "mseFull_new"
   ]
  },
  {
   "cell_type": "code",
   "execution_count": null,
   "metadata": {},
   "outputs": [],
   "source": []
  }
 ],
 "metadata": {
  "kernelspec": {
   "display_name": "Python 3",
   "language": "python",
   "name": "python3"
  },
  "language_info": {
   "codemirror_mode": {
    "name": "ipython",
    "version": 3
   },
   "file_extension": ".py",
   "mimetype": "text/x-python",
   "name": "python",
   "nbconvert_exporter": "python",
   "pygments_lexer": "ipython3",
   "version": "3.6.4"
  }
 },
 "nbformat": 4,
 "nbformat_minor": 2
}
