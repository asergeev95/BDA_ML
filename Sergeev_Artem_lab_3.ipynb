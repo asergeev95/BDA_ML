{
 "cells": [
  {
   "cell_type": "code",
   "execution_count": 1,
   "metadata": {},
   "outputs": [],
   "source": [
    "import numpy as np\n",
    "from sklearn import datasets\n",
    "from collections import Counter"
   ]
  },
  {
   "cell_type": "code",
   "execution_count": 2,
   "metadata": {},
   "outputs": [],
   "source": [
    "def vote(neighbors):\n",
    "    class_counter = Counter()\n",
    "    for neighbor in neighbors:\n",
    "        class_counter[neighbor[2]] += 1\n",
    "    return class_counter.most_common(1)[0][0]\n",
    "\n",
    "def distance(instance1, instance2):\n",
    "    # just in case, if the instances are lists or tuples:\n",
    "    instance1 = np.array(instance1) \n",
    "    instance2 = np.array(instance2)\n",
    "    \n",
    "    return np.linalg.norm(instance1 - instance2)\n",
    "def get_neighbors(training_set, \n",
    "                  labels, \n",
    "                  test_instance, \n",
    "                  k):\n",
    "    \"\"\"\n",
    "    get_neighors calculates a list of the k nearest neighbors\n",
    "    of an instance 'test_instance'.\n",
    "    The list neighbors contains 3-tuples with  \n",
    "    (index, dist, label)\n",
    "    where \n",
    "    index    is the index from the training_set, \n",
    "    dist     is the distance between the test_instance and the \n",
    "             instance training_set[index]\n",
    "    distance is a reference to a function used to calculate the \n",
    "             distances\n",
    "    \"\"\"\n",
    "    distances = []\n",
    "    for index in range(len(training_set)):\n",
    "        dist = distance(test_instance, training_set[index])\n",
    "        distances.append((training_set[index], dist, labels[index]))\n",
    "    distances.sort(key=lambda x: x[1])\n",
    "    neighbors = distances[:k]\n",
    "    return neighbors"
   ]
  },
  {
   "cell_type": "code",
   "execution_count": 11,
   "metadata": {},
   "outputs": [
    {
     "name": "stdout",
     "output_type": "stream",
     "text": [
      "index:  0 , result of vote:  1 , label:  1\n",
      "index:  1 , result of vote:  4 , label:  4\n",
      "index:  2 , result of vote:  8 , label:  8\n",
      "index:  3 , result of vote:  4 , label:  4\n",
      "index:  4 , result of vote:  5 , label:  5\n",
      "index:  5 , result of vote:  3 , label:  3\n",
      "index:  6 , result of vote:  3 , label:  3\n",
      "index:  7 , result of vote:  7 , label:  7\n",
      "index:  8 , result of vote:  7 , label:  7\n",
      "index:  9 , result of vote:  8 , label:  8\n"
     ]
    }
   ],
   "source": [
    "digits = datasets.load_digits()\n",
    "digits_X = digits.data\n",
    "digits_Y = digits.target\n",
    "\n",
    "np.random.seed(0)\n",
    "indices = np.random.permutation(len(digits_X))\n",
    "\n",
    "digits_X_train = digits_X[indices[:-10]]\n",
    "digits_y_train = digits_Y[indices[:-10]]\n",
    "digits_X_test  = digits_X[indices[-10:]]\n",
    "digits_y_test  = digits_Y[indices[-10:]]\n",
    "\n",
    "for i in range(10):\n",
    "    neighbors = get_neighbors(digits_X_train, \n",
    "                              digits_y_train, \n",
    "                              digits_X_test[i], \n",
    "                              10)\n",
    "    print(\"index: \", i, \n",
    "          \", result of vote: \", vote(neighbors), \n",
    "          \", label: \", digits_y_test[i])"
   ]
  },
  {
   "cell_type": "code",
   "execution_count": null,
   "metadata": {},
   "outputs": [],
   "source": []
  },
  {
   "cell_type": "code",
   "execution_count": null,
   "metadata": {},
   "outputs": [],
   "source": []
  }
 ],
 "metadata": {
  "kernelspec": {
   "display_name": "Python 3",
   "language": "python",
   "name": "python3"
  },
  "language_info": {
   "codemirror_mode": {
    "name": "ipython",
    "version": 3
   },
   "file_extension": ".py",
   "mimetype": "text/x-python",
   "name": "python",
   "nbconvert_exporter": "python",
   "pygments_lexer": "ipython3",
   "version": "3.6.4"
  }
 },
 "nbformat": 4,
 "nbformat_minor": 2
}
