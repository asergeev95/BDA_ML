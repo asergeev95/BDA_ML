{
 "cells": [
  {
   "cell_type": "markdown",
   "metadata": {},
   "source": [
    "Import all required libraries"
   ]
  },
  {
   "cell_type": "code",
   "execution_count": 1,
   "metadata": {},
   "outputs": [],
   "source": [
    "from sklearn.datasets import load_breast_cancer\n",
    "from sklearn.model_selection import train_test_split\n",
    "from sklearn.linear_model import LogisticRegression"
   ]
  },
  {
   "cell_type": "markdown",
   "metadata": {},
   "source": [
    "define function for accuracy calculation"
   ]
  },
  {
   "cell_type": "code",
   "execution_count": 2,
   "metadata": {},
   "outputs": [],
   "source": [
    "def calculate_accuracy(predicted, targets):\n",
    "    accuracy = 0\n",
    "    for predicted_value, target in zip(predicted, targets):\n",
    "        if predicted_value == target:\n",
    "            accuracy += 1\n",
    "    return accuracy/len(predicted)"
   ]
  },
  {
   "cell_type": "markdown",
   "metadata": {},
   "source": [
    "read initial data and split into train and test"
   ]
  },
  {
   "cell_type": "code",
   "execution_count": 3,
   "metadata": {},
   "outputs": [],
   "source": [
    "cancer = load_breast_cancer()\n",
    "train_targets, test_targets, train_datas, test_datas =  train_test_split(cancer.target, cancer.data, test_size = 0.25, random_state=5)"
   ]
  },
  {
   "cell_type": "markdown",
   "metadata": {},
   "source": [
    "Logistic regression implementation"
   ]
  },
  {
   "cell_type": "code",
   "execution_count": 4,
   "metadata": {},
   "outputs": [],
   "source": [
    "from sklearn.base import BaseEstimator, ClassifierMixin\n",
    "import numpy as np\n",
    "\n",
    "class MyLogisticRegression(BaseEstimator, ClassifierMixin):\n",
    "    def __init__(self, learning_rate = 0.01, \n",
    "                 iterations = 5000, \n",
    "                 epsilon = 0.1, \n",
    "                 threshold = 0.5):\n",
    "        self.learning_rate = learning_rate\n",
    "        self.iterations = iterations\n",
    "        self.epsilon = epsilon\n",
    "        self.threshold = threshold\n",
    "        \n",
    "    def fit(self, features, targets):\n",
    "        self.train_features = features\n",
    "        self.train_targets = targets\n",
    "        self.weights = self.calculate_weights()\n",
    "    \n",
    "    def predict(self, features):\n",
    "        predictions = self.predict_with_weights(features, self.weights) \n",
    "        return self.classify(predictions)\n",
    "    \n",
    "    def classify(self, predictions):\n",
    "        return [(1 if prediction >= self.threshold else 0) for prediction in predictions]\n",
    "\n",
    "    def calculate_weights(self):\n",
    "        weights = np.zeros(len(self.train_features[0]))\n",
    "        i = 0 \n",
    "        while(True): \n",
    "            improved_weights = self.improve_weights(weights)\n",
    "            if(i == self.iterations or np.linalg.norm(improved_weights-weights) < self.epsilon):\n",
    "                break\n",
    "            i = i+1\n",
    "            weights = improved_weights\n",
    "        return weights\n",
    "    \n",
    "    def improve_weights(self, weights):\n",
    "        predictions = self.predict_with_weights(self.train_features, weights) \n",
    "        gradient = np.dot(self.train_features.T,  predictions - self.train_targets)\n",
    "        improved_weights = weights - self.learning_rate * gradient\n",
    "        return improved_weights\n",
    "    \n",
    "    def predict_with_weights(self, features, weights):\n",
    "        z = np.dot(features, weights)\n",
    "        return self.logistic_function(z)\n",
    "    \n",
    "    def logistic_function(self, x):\n",
    "        return 1/(1+np.exp(-x))"
   ]
  },
  {
   "cell_type": "markdown",
   "metadata": {},
   "source": [
    "Check sklearn log reg"
   ]
  },
  {
   "cell_type": "code",
   "execution_count": 5,
   "metadata": {},
   "outputs": [
    {
     "name": "stdout",
     "output_type": "stream",
     "text": [
      "Sklearn accuracy: 0.9790209790209791\n"
     ]
    }
   ],
   "source": [
    "sklg = LogisticRegression()\n",
    "sklg.fit(train_datas, train_targets)\n",
    "sklg_predicted = sklg.predict(test_datas)\n",
    "print(\"Sklearn accuracy:\",calculate_accuracy(sklg_predicted, test_targets))"
   ]
  },
  {
   "cell_type": "markdown",
   "metadata": {},
   "source": [
    "check my log reg"
   ]
  },
  {
   "cell_type": "code",
   "execution_count": 6,
   "metadata": {},
   "outputs": [
    {
     "name": "stdout",
     "output_type": "stream",
     "text": [
      "My accuracy: 0.9440559440559441\n"
     ]
    }
   ],
   "source": [
    "lg = MyLogisticRegression() \n",
    "lg.fit(train_datas, train_targets) \n",
    "predicted = lg.predict(test_datas) \n",
    "print(\"My accuracy:\", calculate_accuracy(predicted, test_targets))"
   ]
  },
  {
   "cell_type": "code",
   "execution_count": null,
   "metadata": {},
   "outputs": [],
   "source": []
  }
 ],
 "metadata": {
  "kernelspec": {
   "display_name": "Python 3",
   "language": "python",
   "name": "python3"
  },
  "language_info": {
   "codemirror_mode": {
    "name": "ipython",
    "version": 3
   },
   "file_extension": ".py",
   "mimetype": "text/x-python",
   "name": "python",
   "nbconvert_exporter": "python",
   "pygments_lexer": "ipython3",
   "version": "3.6.4"
  }
 },
 "nbformat": 4,
 "nbformat_minor": 2
}
