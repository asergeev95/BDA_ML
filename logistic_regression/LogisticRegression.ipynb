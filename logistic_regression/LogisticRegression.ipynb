{
 "cells": [
  {
   "cell_type": "code",
   "execution_count": 1,
   "metadata": {},
   "outputs": [],
   "source": [
    "from sklearn.datasets import load_breast_cancer\n",
    "from sklearn.model_selection import train_test_split\n",
    "from sklearn.linear_model import LogisticRegression\n",
    "from MyLogisticRegression import MyLogisticRegression"
   ]
  },
  {
   "cell_type": "code",
   "execution_count": 2,
   "metadata": {},
   "outputs": [],
   "source": [
    "def calculate_accuracy(predicted, targets):\n",
    "    accuracy = 0\n",
    "    for predicted_value, target in zip(predicted, targets):\n",
    "        if predicted_value == target:\n",
    "            accuracy += 1\n",
    "    return accuracy/len(predicted)"
   ]
  },
  {
   "cell_type": "code",
   "execution_count": 3,
   "metadata": {},
   "outputs": [],
   "source": [
    "cancer = load_breast_cancer()\n",
    "train_targets, test_targets, train_datas, test_datas =  train_test_split(cancer.target, cancer.data, test_size = 0.3, random_state=5)"
   ]
  },
  {
   "cell_type": "code",
   "execution_count": 4,
   "metadata": {},
   "outputs": [
    {
     "name": "stderr",
     "output_type": "stream",
     "text": [
      "/home/asergeev/Desktop/BDA_ML/logistic_regression/MyLogisticRegression.py:48: RuntimeWarning: overflow encountered in exp\n",
      "  return 1/(1+np.exp(-x))\n"
     ]
    },
    {
     "name": "stdout",
     "output_type": "stream",
     "text": [
      "My accuracy: 0.9181286549707602\n"
     ]
    }
   ],
   "source": [
    "lg = MyLogisticRegression() \n",
    "lg.fit(train_datas, train_targets) \n",
    "predicted = lg.predict(test_datas) \n",
    "print(\"My accuracy:\", calculate_accuracy(predicted, test_targets))"
   ]
  },
  {
   "cell_type": "code",
   "execution_count": 5,
   "metadata": {},
   "outputs": [
    {
     "name": "stdout",
     "output_type": "stream",
     "text": [
      "Sklearn accuracy: 0.9824561403508771\n"
     ]
    }
   ],
   "source": [
    "sklg = LogisticRegression()\n",
    "sklg.fit(train_datas, train_targets)\n",
    "sklg_predicted = sklg.predict(test_datas)\n",
    "print(\"Sklearn accuracy:\",calculate_accuracy(sklg_predicted, test_targets))"
   ]
  },
  {
   "cell_type": "code",
   "execution_count": null,
   "metadata": {},
   "outputs": [],
   "source": []
  }
 ],
 "metadata": {
  "kernelspec": {
   "display_name": "Python 3",
   "language": "python",
   "name": "python3"
  },
  "language_info": {
   "codemirror_mode": {
    "name": "ipython",
    "version": 3
   },
   "file_extension": ".py",
   "mimetype": "text/x-python",
   "name": "python",
   "nbconvert_exporter": "python",
   "pygments_lexer": "ipython3",
   "version": "3.6.4"
  }
 },
 "nbformat": 4,
 "nbformat_minor": 2
}
