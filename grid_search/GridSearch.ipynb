{
 "cells": [
  {
   "cell_type": "markdown",
   "metadata": {},
   "source": [
    "Import all required libraries"
   ]
  },
  {
   "cell_type": "code",
   "execution_count": 1,
   "metadata": {},
   "outputs": [],
   "source": [
    "import pandas as pd\n",
    "from sklearn.model_selection import train_test_split\n",
    "from sklearn.tree import DecisionTreeClassifier\n",
    "from sklearn.svm import SVC\n",
    "from sklearn.neighbors import KNeighborsClassifier\n",
    "from sklearn.metrics import roc_auc_score\n",
    "from sklearn.model_selection import GridSearchCV"
   ]
  },
  {
   "cell_type": "markdown",
   "metadata": {},
   "source": [
    "Read initial data and split into train and test"
   ]
  },
  {
   "cell_type": "code",
   "execution_count": 2,
   "metadata": {},
   "outputs": [],
   "source": [
    "data = pd.read_csv('lab7_data.csv', sep='\\t', decimal=',')\n",
    "data_targets, prediction_data = data[\"churn\"], data.drop(\"churn\", axis=1)\n",
    "train_targets, test_targets, train_data, test_data = train_test_split(data_targets, prediction_data, test_size = 0.33, random_state=4)"
   ]
  },
  {
   "cell_type": "markdown",
   "metadata": {},
   "source": [
    "Initialize GridSearch for KNN"
   ]
  },
  {
   "cell_type": "code",
   "execution_count": 3,
   "metadata": {},
   "outputs": [
    {
     "name": "stdout",
     "output_type": "stream",
     "text": [
      "0.5126844830397912\n",
      "Wall time: 1min 45s\n"
     ]
    }
   ],
   "source": [
    "%%time\n",
    "knn_parameters = {'n_neighbors': range(1, 100)}\n",
    "knn = GridSearchCV(KNeighborsClassifier(), knn_parameters, scoring='roc_auc')\n",
    "knn.fit(train_data, train_targets)\n",
    "knn_predicted = knn.predict(test_data)\n",
    "print(roc_auc_score(test_targets, knn_predicted))"
   ]
  },
  {
   "cell_type": "markdown",
   "metadata": {},
   "source": [
    "Initialize GridSearch for DecisionTree"
   ]
  },
  {
   "cell_type": "code",
   "execution_count": 4,
   "metadata": {},
   "outputs": [
    {
     "name": "stdout",
     "output_type": "stream",
     "text": [
      "0.8046773075668624\n",
      "Wall time: 15.4 s\n"
     ]
    }
   ],
   "source": [
    "%%time\n",
    "decision_tree_params={'min_samples_split': range(2, 10), 'max_depth': range(2, 10)}\n",
    "dtc = GridSearchCV(DecisionTreeClassifier(), decision_tree_params, scoring='roc_auc')\n",
    "dtc.fit(train_data, train_targets)\n",
    "dtc_predicted = dtc.predict(test_data)\n",
    "print(roc_auc_score(test_targets, dtc_predicted))"
   ]
  },
  {
   "cell_type": "markdown",
   "metadata": {},
   "source": [
    "Initialize GridSearch for SVM"
   ]
  },
  {
   "cell_type": "code",
   "execution_count": 5,
   "metadata": {},
   "outputs": [
    {
     "name": "stdout",
     "output_type": "stream",
     "text": [
      "Fitting 3 folds for each of 2 candidates, totalling 6 fits\n",
      "[CV] C=1 .............................................................\n",
      "[CV] .............................................. C=1, total=   0.6s\n",
      "[CV] C=1 .............................................................\n"
     ]
    },
    {
     "name": "stderr",
     "output_type": "stream",
     "text": [
      "[Parallel(n_jobs=1)]: Done   1 out of   1 | elapsed:    1.0s remaining:    0.0s\n"
     ]
    },
    {
     "name": "stdout",
     "output_type": "stream",
     "text": [
      "[CV] .............................................. C=1, total=   0.7s\n",
      "[CV] C=1 .............................................................\n",
      "[CV] .............................................. C=1, total=   0.8s\n",
      "[CV] C=10 ............................................................\n",
      "[CV] ............................................. C=10, total=   0.6s\n",
      "[CV] C=10 ............................................................\n",
      "[CV] ............................................. C=10, total=   0.6s\n",
      "[CV] C=10 ............................................................\n",
      "[CV] ............................................. C=10, total=   0.7s\n"
     ]
    },
    {
     "name": "stderr",
     "output_type": "stream",
     "text": [
      "[Parallel(n_jobs=1)]: Done   6 out of   6 | elapsed:    7.3s finished\n"
     ]
    },
    {
     "name": "stdout",
     "output_type": "stream",
     "text": [
      "0.5\n",
      "Wall time: 9.02 s\n"
     ]
    }
   ],
   "source": [
    "%%time\n",
    "svm_parameters = {'C':[1, 10]}\n",
    "svc = GridSearchCV(SVC(kernel='rbf'), svm_parameters, verbose=2, scoring='roc_auc')\n",
    "svc.fit(train_data, train_targets) \n",
    "svc_predicted = svc.predict(test_data)\n",
    "print(roc_auc_score(test_targets, svc_predicted))"
   ]
  },
  {
   "cell_type": "code",
   "execution_count": null,
   "metadata": {},
   "outputs": [],
   "source": []
  }
 ],
 "metadata": {
  "kernelspec": {
   "display_name": "Python 3",
   "language": "python",
   "name": "python3"
  },
  "language_info": {
   "codemirror_mode": {
    "name": "ipython",
    "version": 3
   },
   "file_extension": ".py",
   "mimetype": "text/x-python",
   "name": "python",
   "nbconvert_exporter": "python",
   "pygments_lexer": "ipython3",
   "version": "3.6.4"
  }
 },
 "nbformat": 4,
 "nbformat_minor": 2
}
