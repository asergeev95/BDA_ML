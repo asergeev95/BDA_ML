{
 "cells": [
  {
   "cell_type": "code",
   "execution_count": null,
   "metadata": {},
   "outputs": [],
   "source": [
    "import pandas as pd\n",
    "from sklearn.model_selection import train_test_split\n",
    "from sklearn.tree import DecisionTreeClassifier\n",
    "from sklearn.svm import SVC\n",
    "from sklearn.neighbors import KNeighborsClassifier\n",
    "from sklearn.metrics import roc_auc_score\n",
    "from sklearn.model_selection import GridSearchCV"
   ]
  },
  {
   "cell_type": "code",
   "execution_count": 2,
   "metadata": {},
   "outputs": [],
   "source": [
    "data = pd.read_csv('lab7_data.csv', sep='\\t', decimal=',')\n",
    "data_targets, prediction_data = data[\"churn\"], data.drop(\"churn\", axis=1)\n",
    "train_targets, test_targets, train_data, test_data = train_test_split(data_targets, prediction_data, test_size = 0.33, random_state=4)"
   ]
  },
  {
   "cell_type": "code",
   "execution_count": 3,
   "metadata": {},
   "outputs": [
    {
     "name": "stdout",
     "output_type": "stream",
     "text": [
      "GridSearchCV(cv=None, error_score='raise',\n",
      "       estimator=KNeighborsClassifier(algorithm='auto', leaf_size=30, metric='minkowski',\n",
      "           metric_params=None, n_jobs=1, n_neighbors=5, p=2,\n",
      "           weights='uniform'),\n",
      "       fit_params=None, iid=True, n_jobs=1,\n",
      "       param_grid={'n_neighbors': range(1, 120)}, pre_dispatch='2*n_jobs',\n",
      "       refit=True, return_train_score='warn', scoring='roc_auc', verbose=0)\n",
      "0.5126844830397912\n"
     ]
    }
   ],
   "source": [
    "knn_parameters = {'n_neighbors': range(1, 120)}\n",
    "knn = GridSearchCV(KNeighborsClassifier(), knn_parameters, scoring='roc_auc')\n",
    "print(knn)\n",
    "knn.fit(train_data, train_targets)\n",
    "knn_predicted = knn.predict(test_data)\n",
    "print(roc_auc_score(test_targets, knn_predicted))"
   ]
  },
  {
   "cell_type": "code",
   "execution_count": null,
   "metadata": {},
   "outputs": [],
   "source": [
    "#svm_parameters = [{'C': [0.1, 1, 10], 'kernel': ['linear']},{'C': [0.1, 1, 10], 'gamma': [0.001, 0.0001], 'kernel': ['rbf']}]\n",
    "svm_parameters = {'kernel':('linear', 'rbf'), 'C':[1, 10]}\n",
    "svc = GridSearchCV(SVC(), svm_parameters, verbose=2, scoring='roc_auc')\n",
    "svc.fit(train_data, train_targets) \n",
    "svc_predicted = svc.predict(test_data)\n",
    "print(roc_auc_score(test_targets, svc_predicted))"
   ]
  },
  {
   "cell_type": "code",
   "execution_count": null,
   "metadata": {},
   "outputs": [],
   "source": [
    "decision_tree_params={'min_samples_split': range(2, 10), 'max_depth': range(2, 10)}\n",
    "dtc = GridSearchCV(DecisionTreeClassifier(), decision_tree_params, scoring='roc_auc')\n",
    "dtc.fit(train_data, train_targets)\n",
    "dtc_predicted = dtc.predict(test_data)\n",
    "print(roc_auc_score(test_targets, dtc_predicted))"
   ]
  },
  {
   "cell_type": "code",
   "execution_count": null,
   "metadata": {},
   "outputs": [],
   "source": []
  }
 ],
 "metadata": {
  "kernelspec": {
   "display_name": "Python 3",
   "language": "python",
   "name": "python3"
  },
  "language_info": {
   "codemirror_mode": {
    "name": "ipython",
    "version": 3
   },
   "file_extension": ".py",
   "mimetype": "text/x-python",
   "name": "python",
   "nbconvert_exporter": "python",
   "pygments_lexer": "ipython3",
   "version": "3.6.4"
  }
 },
 "nbformat": 4,
 "nbformat_minor": 2
}
